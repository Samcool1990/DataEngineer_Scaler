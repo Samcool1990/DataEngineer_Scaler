{
 "cells": [
  {
   "cell_type": "code",
   "execution_count": 1,
   "id": "8fc9807a",
   "metadata": {},
   "outputs": [],
   "source": [
    "from pyspark import SparkContext\n",
    "from pyspark.streaming import StreamingContext\n",
    "from pyspark.sql import SparkSession, Row\n",
    "from pyspark.sql.types import StructType,StructField, StringType, IntegerType, FloatType\n",
    "from pyspark.sql.functions import lit, concat, col, split\n",
    "from influxdb import InfluxDBClient\n",
    "from influxdb_client import InfluxDBClient\n",
    "from influxdb_client.client.write_api import SYNCHRONOUS"
   ]
  },
  {
   "cell_type": "code",
   "execution_count": 2,
   "id": "6481757b",
   "metadata": {},
   "outputs": [],
   "source": [
    "class InfluxClient:\n",
    "    def __init__(self,token,org,bucket):\n",
    "        self._org=org\n",
    "        self._bucket = bucket\n",
    "        self._client = InfluxDBClient(url=\"http://localhost:8086\", token=token)\n",
    "\n",
    "    def write_data(self,data,write_option=SYNCHRONOUS):\n",
    "        write_api = self._client.write_api(write_option)\n",
    "        write_api.write(self._bucket, self._org , data,write_precision='s')"
   ]
  },
  {
   "cell_type": "code",
   "execution_count": 3,
   "id": "0d3e5f75",
   "metadata": {},
   "outputs": [],
   "source": [
    "token = 'URJc3EOGIeMEttzZESUtAkMxKq7z4D89q0Yf8J38_7J0UI8Z0XLPhqkKJ-Y7uMf1AbpoVmNDjC8hHVAd0dF7Rg=='\n",
    "org = 'Scaler'\n",
    "bucket = 'crypto'\n",
    "IC = InfluxClient(token,org,bucket)"
   ]
  },
  {
   "cell_type": "code",
   "execution_count": 4,
   "id": "bc86b9c4",
   "metadata": {},
   "outputs": [],
   "source": [
    "def save_row(r):\n",
    "        IC.write_data(r)"
   ]
  },
  {
   "cell_type": "code",
   "execution_count": 5,
   "id": "bd251e90",
   "metadata": {},
   "outputs": [
    {
     "name": "stdout",
     "output_type": "stream",
     "text": [
      "23/06/24 02:27:13 WARN Utils: Your hostname, Amits-MacBook-Pro.local resolves to a loopback address: 127.0.0.1; using 192.168.1.8 instead (on interface en0)\n",
      "23/06/24 02:27:13 WARN Utils: Set SPARK_LOCAL_IP if you need to bind to another address\n",
      ":: loading settings :: url = jar:file:/Users/amitsingh/opt/anaconda3/lib/python3.9/site-packages/pyspark/jars/ivy-2.5.1.jar!/org/apache/ivy/core/settings/ivysettings.xml\n"
     ]
    },
    {
     "name": "stderr",
     "output_type": "stream",
     "text": [
      "Ivy Default Cache set to: /Users/amitsingh/.ivy2/cache\n",
      "The jars for the packages stored in: /Users/amitsingh/.ivy2/jars\n",
      "org.apache.spark#spark-sql-kafka-0-10_2.12 added as a dependency\n",
      "org.apache.kafka#kafka-clients added as a dependency\n",
      ":: resolving dependencies :: org.apache.spark#spark-submit-parent-cd0e9730-724c-4909-9c34-17f3d6a6f211;1.0\n",
      "\tconfs: [default]\n",
      "\tfound org.apache.spark#spark-sql-kafka-0-10_2.12;3.3.2 in central\n",
      "\tfound org.apache.spark#spark-token-provider-kafka-0-10_2.12;3.3.2 in central\n",
      "\tfound org.apache.hadoop#hadoop-client-runtime;3.3.2 in central\n",
      "\tfound org.spark-project.spark#unused;1.0.0 in central\n",
      "\tfound org.apache.hadoop#hadoop-client-api;3.3.2 in central\n",
      "\tfound org.xerial.snappy#snappy-java;1.1.8.4 in central\n",
      "\tfound org.slf4j#slf4j-api;1.7.32 in central\n",
      "\tfound commons-logging#commons-logging;1.1.3 in central\n",
      "\tfound com.google.code.findbugs#jsr305;3.0.0 in central\n",
      "\tfound org.apache.commons#commons-pool2;2.11.1 in central\n",
      "\tfound org.apache.kafka#kafka-clients;3.4.0 in central\n",
      "\tfound com.github.luben#zstd-jni;1.5.2-1 in central\n",
      "\tfound org.lz4#lz4-java;1.8.0 in central\n",
      "\tfound org.slf4j#slf4j-api;1.7.36 in central\n",
      ":: resolution report :: resolve 1007ms :: artifacts dl 22ms\n",
      "\t:: modules in use:\n",
      "\tcom.github.luben#zstd-jni;1.5.2-1 from central in [default]\n",
      "\tcom.google.code.findbugs#jsr305;3.0.0 from central in [default]\n",
      "\tcommons-logging#commons-logging;1.1.3 from central in [default]\n",
      "\torg.apache.commons#commons-pool2;2.11.1 from central in [default]\n",
      "\torg.apache.hadoop#hadoop-client-api;3.3.2 from central in [default]\n",
      "\torg.apache.hadoop#hadoop-client-runtime;3.3.2 from central in [default]\n",
      "\torg.apache.kafka#kafka-clients;3.4.0 from central in [default]\n",
      "\torg.apache.spark#spark-sql-kafka-0-10_2.12;3.3.2 from central in [default]\n",
      "\torg.apache.spark#spark-token-provider-kafka-0-10_2.12;3.3.2 from central in [default]\n",
      "\torg.lz4#lz4-java;1.8.0 from central in [default]\n",
      "\torg.slf4j#slf4j-api;1.7.36 from central in [default]\n",
      "\torg.spark-project.spark#unused;1.0.0 from central in [default]\n",
      "\torg.xerial.snappy#snappy-java;1.1.8.4 from central in [default]\n",
      "\t:: evicted modules:\n",
      "\torg.apache.kafka#kafka-clients;2.8.1 by [org.apache.kafka#kafka-clients;3.4.0] in [default]\n",
      "\torg.slf4j#slf4j-api;1.7.32 by [org.slf4j#slf4j-api;1.7.36] in [default]\n",
      "\t---------------------------------------------------------------------\n",
      "\t|                  |            modules            ||   artifacts   |\n",
      "\t|       conf       | number| search|dwnlded|evicted|| number|dwnlded|\n",
      "\t---------------------------------------------------------------------\n",
      "\t|      default     |   15  |   0   |   0   |   2   ||   13  |   0   |\n",
      "\t---------------------------------------------------------------------\n",
      ":: retrieving :: org.apache.spark#spark-submit-parent-cd0e9730-724c-4909-9c34-17f3d6a6f211\n",
      "\tconfs: [default]\n",
      "\t0 artifacts copied, 13 already retrieved (0kB/20ms)\n"
     ]
    },
    {
     "name": "stdout",
     "output_type": "stream",
     "text": [
      "23/06/24 02:27:15 WARN NativeCodeLoader: Unable to load native-hadoop library for your platform... using builtin-java classes where applicable\n"
     ]
    },
    {
     "name": "stderr",
     "output_type": "stream",
     "text": [
      "Setting default log level to \"WARN\".\n",
      "To adjust logging level use sc.setLogLevel(newLevel). For SparkR, use setLogLevel(newLevel).\n"
     ]
    }
   ],
   "source": [
    "scala_version = '2.12'\n",
    "spark_version = '3.3.2'\n",
    "# TODO: Ensure match above values match the correct versions\n",
    "packages = [\n",
    "    f'org.apache.spark:spark-sql-kafka-0-10_{scala_version}:{spark_version}',\n",
    "    'org.apache.kafka:kafka-clients:3.4.0'\n",
    "]\n",
    "\n",
    "#import os\n",
    "\n",
    "#spark_version = '3.3.2'\n",
    "#os.environ['PYSPARK_SUBMIT_ARGS'] = '--packages org.apache.spark:spark-sql-kafka-0-10_2.12:{}'.format(spark_version)\n",
    "\n",
    "spark = SparkSession.builder\\\n",
    "   .master(\"local\")\\\n",
    "   .appName(\"kafka-example\")\\\n",
    "   .config(\"spark.jars.packages\", \",\".join(packages))\\\n",
    "   .getOrCreate()"
   ]
  },
  {
   "cell_type": "code",
   "execution_count": null,
   "id": "c78d16a5",
   "metadata": {},
   "outputs": [
    {
     "name": "stdout",
     "output_type": "stream",
     "text": [
      "23/06/24 02:27:22 WARN ResolveWriteToStream: Temporary checkpoint location created which is deleted normally when the query didn't fail: /private/var/folders/cv/c3d_91nj05vg4w2lb_tg1l200000gn/T/temporary-a623b9b2-995a-47a8-9ec4-66ba84e155a6. If it's required to delete it under any circumstances, please set spark.sql.streaming.forceDeleteTempCheckpointLocation to true. Important to know deleting temp checkpoint folder is best effort.\n",
      "23/06/24 02:27:22 WARN ResolveWriteToStream: spark.sql.adaptive.enabled is not supported in streaming DataFrames/Datasets and will be disabled.\n",
      "23/06/24 02:27:22 WARN NetworkClient: [Consumer clientId=consumer-spark-kafka-source-9763db15-3779-4725-a866-b30bade5bf43-1999917323-driver-0-1, groupId=spark-kafka-source-9763db15-3779-4725-a866-b30bade5bf43-1999917323-driver-0] Connection to node -1 (localhost/127.0.0.1:9092) could not be established. Broker may not be available.\n",
      "23/06/24 02:27:22 WARN NetworkClient: [Consumer clientId=consumer-spark-kafka-source-9763db15-3779-4725-a866-b30bade5bf43-1999917323-driver-0-1, groupId=spark-kafka-source-9763db15-3779-4725-a866-b30bade5bf43-1999917323-driver-0] Bootstrap broker localhost:9092 (id: -1 rack: null) disconnected\n",
      "23/06/24 02:27:23 WARN NetworkClient: [Consumer clientId=consumer-spark-kafka-source-9763db15-3779-4725-a866-b30bade5bf43-1999917323-driver-0-1, groupId=spark-kafka-source-9763db15-3779-4725-a866-b30bade5bf43-1999917323-driver-0] Connection to node -1 (localhost/127.0.0.1:9092) could not be established. Broker may not be available.\n",
      "23/06/24 02:27:23 WARN NetworkClient: [Consumer clientId=consumer-spark-kafka-source-9763db15-3779-4725-a866-b30bade5bf43-1999917323-driver-0-1, groupId=spark-kafka-source-9763db15-3779-4725-a866-b30bade5bf43-1999917323-driver-0] Bootstrap broker localhost:9092 (id: -1 rack: null) disconnected\n",
      "23/06/24 02:27:23 WARN NetworkClient: [Consumer clientId=consumer-spark-kafka-source-9763db15-3779-4725-a866-b30bade5bf43-1999917323-driver-0-1, groupId=spark-kafka-source-9763db15-3779-4725-a866-b30bade5bf43-1999917323-driver-0] Connection to node -1 (localhost/127.0.0.1:9092) could not be established. Broker may not be available.\n",
      "23/06/24 02:27:23 WARN NetworkClient: [Consumer clientId=consumer-spark-kafka-source-9763db15-3779-4725-a866-b30bade5bf43-1999917323-driver-0-1, groupId=spark-kafka-source-9763db15-3779-4725-a866-b30bade5bf43-1999917323-driver-0] Bootstrap broker localhost:9092 (id: -1 rack: null) disconnected\n",
      "23/06/24 02:27:23 WARN NetworkClient: [Consumer clientId=consumer-spark-kafka-source-9763db15-3779-4725-a866-b30bade5bf43-1999917323-driver-0-1, groupId=spark-kafka-source-9763db15-3779-4725-a866-b30bade5bf43-1999917323-driver-0] Connection to node -1 (localhost/127.0.0.1:9092) could not be established. Broker may not be available.\n",
      "23/06/24 02:27:23 WARN NetworkClient: [Consumer clientId=consumer-spark-kafka-source-9763db15-3779-4725-a866-b30bade5bf43-1999917323-driver-0-1, groupId=spark-kafka-source-9763db15-3779-4725-a866-b30bade5bf43-1999917323-driver-0] Bootstrap broker localhost:9092 (id: -1 rack: null) disconnected\n",
      "23/06/24 02:27:23 WARN NetworkClient: [Consumer clientId=consumer-spark-kafka-source-9763db15-3779-4725-a866-b30bade5bf43-1999917323-driver-0-1, groupId=spark-kafka-source-9763db15-3779-4725-a866-b30bade5bf43-1999917323-driver-0] Connection to node -1 (localhost/127.0.0.1:9092) could not be established. Broker may not be available.\n",
      "23/06/24 02:27:23 WARN NetworkClient: [Consumer clientId=consumer-spark-kafka-source-9763db15-3779-4725-a866-b30bade5bf43-1999917323-driver-0-1, groupId=spark-kafka-source-9763db15-3779-4725-a866-b30bade5bf43-1999917323-driver-0] Bootstrap broker localhost:9092 (id: -1 rack: null) disconnected\n",
      "23/06/24 02:27:24 WARN NetworkClient: [Consumer clientId=consumer-spark-kafka-source-9763db15-3779-4725-a866-b30bade5bf43-1999917323-driver-0-1, groupId=spark-kafka-source-9763db15-3779-4725-a866-b30bade5bf43-1999917323-driver-0] Connection to node -1 (localhost/127.0.0.1:9092) could not be established. Broker may not be available.\n",
      "23/06/24 02:27:24 WARN NetworkClient: [Consumer clientId=consumer-spark-kafka-source-9763db15-3779-4725-a866-b30bade5bf43-1999917323-driver-0-1, groupId=spark-kafka-source-9763db15-3779-4725-a866-b30bade5bf43-1999917323-driver-0] Bootstrap broker localhost:9092 (id: -1 rack: null) disconnected\n",
      "23/06/24 02:27:25 WARN NetworkClient: [Consumer clientId=consumer-spark-kafka-source-9763db15-3779-4725-a866-b30bade5bf43-1999917323-driver-0-1, groupId=spark-kafka-source-9763db15-3779-4725-a866-b30bade5bf43-1999917323-driver-0] Connection to node -1 (localhost/127.0.0.1:9092) could not be established. Broker may not be available.\n",
      "23/06/24 02:27:25 WARN NetworkClient: [Consumer clientId=consumer-spark-kafka-source-9763db15-3779-4725-a866-b30bade5bf43-1999917323-driver-0-1, groupId=spark-kafka-source-9763db15-3779-4725-a866-b30bade5bf43-1999917323-driver-0] Bootstrap broker localhost:9092 (id: -1 rack: null) disconnected\n",
      "23/06/24 02:27:26 WARN NetworkClient: [Consumer clientId=consumer-spark-kafka-source-9763db15-3779-4725-a866-b30bade5bf43-1999917323-driver-0-1, groupId=spark-kafka-source-9763db15-3779-4725-a866-b30bade5bf43-1999917323-driver-0] Connection to node -1 (localhost/127.0.0.1:9092) could not be established. Broker may not be available.\n",
      "23/06/24 02:27:26 WARN NetworkClient: [Consumer clientId=consumer-spark-kafka-source-9763db15-3779-4725-a866-b30bade5bf43-1999917323-driver-0-1, groupId=spark-kafka-source-9763db15-3779-4725-a866-b30bade5bf43-1999917323-driver-0] Bootstrap broker localhost:9092 (id: -1 rack: null) disconnected\n",
      "23/06/24 02:27:27 WARN NetworkClient: [Consumer clientId=consumer-spark-kafka-source-9763db15-3779-4725-a866-b30bade5bf43-1999917323-driver-0-1, groupId=spark-kafka-source-9763db15-3779-4725-a866-b30bade5bf43-1999917323-driver-0] Connection to node -1 (localhost/127.0.0.1:9092) could not be established. Broker may not be available.\n",
      "23/06/24 02:27:27 WARN NetworkClient: [Consumer clientId=consumer-spark-kafka-source-9763db15-3779-4725-a866-b30bade5bf43-1999917323-driver-0-1, groupId=spark-kafka-source-9763db15-3779-4725-a866-b30bade5bf43-1999917323-driver-0] Bootstrap broker localhost:9092 (id: -1 rack: null) disconnected\n",
      "23/06/24 02:27:28 WARN NetworkClient: [Consumer clientId=consumer-spark-kafka-source-9763db15-3779-4725-a866-b30bade5bf43-1999917323-driver-0-1, groupId=spark-kafka-source-9763db15-3779-4725-a866-b30bade5bf43-1999917323-driver-0] Connection to node -1 (localhost/127.0.0.1:9092) could not be established. Broker may not be available.\n",
      "23/06/24 02:27:28 WARN NetworkClient: [Consumer clientId=consumer-spark-kafka-source-9763db15-3779-4725-a866-b30bade5bf43-1999917323-driver-0-1, groupId=spark-kafka-source-9763db15-3779-4725-a866-b30bade5bf43-1999917323-driver-0] Bootstrap broker localhost:9092 (id: -1 rack: null) disconnected\n",
      "23/06/24 02:27:29 WARN NetworkClient: [Consumer clientId=consumer-spark-kafka-source-9763db15-3779-4725-a866-b30bade5bf43-1999917323-driver-0-1, groupId=spark-kafka-source-9763db15-3779-4725-a866-b30bade5bf43-1999917323-driver-0] Connection to node -1 (localhost/127.0.0.1:9092) could not be established. Broker may not be available.\n",
      "23/06/24 02:27:29 WARN NetworkClient: [Consumer clientId=consumer-spark-kafka-source-9763db15-3779-4725-a866-b30bade5bf43-1999917323-driver-0-1, groupId=spark-kafka-source-9763db15-3779-4725-a866-b30bade5bf43-1999917323-driver-0] Bootstrap broker localhost:9092 (id: -1 rack: null) disconnected\n",
      "23/06/24 02:27:30 WARN NetworkClient: [Consumer clientId=consumer-spark-kafka-source-9763db15-3779-4725-a866-b30bade5bf43-1999917323-driver-0-1, groupId=spark-kafka-source-9763db15-3779-4725-a866-b30bade5bf43-1999917323-driver-0] Connection to node -1 (localhost/127.0.0.1:9092) could not be established. Broker may not be available.\n",
      "23/06/24 02:27:30 WARN NetworkClient: [Consumer clientId=consumer-spark-kafka-source-9763db15-3779-4725-a866-b30bade5bf43-1999917323-driver-0-1, groupId=spark-kafka-source-9763db15-3779-4725-a866-b30bade5bf43-1999917323-driver-0] Bootstrap broker localhost:9092 (id: -1 rack: null) disconnected\n",
      "23/06/24 02:27:32 WARN NetworkClient: [Consumer clientId=consumer-spark-kafka-source-9763db15-3779-4725-a866-b30bade5bf43-1999917323-driver-0-1, groupId=spark-kafka-source-9763db15-3779-4725-a866-b30bade5bf43-1999917323-driver-0] Connection to node -1 (localhost/127.0.0.1:9092) could not be established. Broker may not be available.\n",
      "23/06/24 02:27:32 WARN NetworkClient: [Consumer clientId=consumer-spark-kafka-source-9763db15-3779-4725-a866-b30bade5bf43-1999917323-driver-0-1, groupId=spark-kafka-source-9763db15-3779-4725-a866-b30bade5bf43-1999917323-driver-0] Bootstrap broker localhost:9092 (id: -1 rack: null) disconnected\n"
     ]
    },
    {
     "name": "stdout",
     "output_type": "stream",
     "text": [
      "23/06/24 02:27:33 WARN NetworkClient: [Consumer clientId=consumer-spark-kafka-source-9763db15-3779-4725-a866-b30bade5bf43-1999917323-driver-0-1, groupId=spark-kafka-source-9763db15-3779-4725-a866-b30bade5bf43-1999917323-driver-0] Connection to node -1 (localhost/127.0.0.1:9092) could not be established. Broker may not be available.\n",
      "23/06/24 02:27:33 WARN NetworkClient: [Consumer clientId=consumer-spark-kafka-source-9763db15-3779-4725-a866-b30bade5bf43-1999917323-driver-0-1, groupId=spark-kafka-source-9763db15-3779-4725-a866-b30bade5bf43-1999917323-driver-0] Bootstrap broker localhost:9092 (id: -1 rack: null) disconnected\n",
      "23/06/24 02:27:34 WARN NetworkClient: [Consumer clientId=consumer-spark-kafka-source-9763db15-3779-4725-a866-b30bade5bf43-1999917323-driver-0-1, groupId=spark-kafka-source-9763db15-3779-4725-a866-b30bade5bf43-1999917323-driver-0] Connection to node -1 (localhost/127.0.0.1:9092) could not be established. Broker may not be available.\n",
      "23/06/24 02:27:34 WARN NetworkClient: [Consumer clientId=consumer-spark-kafka-source-9763db15-3779-4725-a866-b30bade5bf43-1999917323-driver-0-1, groupId=spark-kafka-source-9763db15-3779-4725-a866-b30bade5bf43-1999917323-driver-0] Bootstrap broker localhost:9092 (id: -1 rack: null) disconnected\n",
      "23/06/24 02:27:35 WARN NetworkClient: [Consumer clientId=consumer-spark-kafka-source-9763db15-3779-4725-a866-b30bade5bf43-1999917323-driver-0-1, groupId=spark-kafka-source-9763db15-3779-4725-a866-b30bade5bf43-1999917323-driver-0] Connection to node -1 (localhost/127.0.0.1:9092) could not be established. Broker may not be available.\n",
      "23/06/24 02:27:35 WARN NetworkClient: [Consumer clientId=consumer-spark-kafka-source-9763db15-3779-4725-a866-b30bade5bf43-1999917323-driver-0-1, groupId=spark-kafka-source-9763db15-3779-4725-a866-b30bade5bf43-1999917323-driver-0] Bootstrap broker localhost:9092 (id: -1 rack: null) disconnected\n",
      "23/06/24 02:27:36 WARN NetworkClient: [Consumer clientId=consumer-spark-kafka-source-9763db15-3779-4725-a866-b30bade5bf43-1999917323-driver-0-1, groupId=spark-kafka-source-9763db15-3779-4725-a866-b30bade5bf43-1999917323-driver-0] Connection to node -1 (localhost/127.0.0.1:9092) could not be established. Broker may not be available.\n",
      "23/06/24 02:27:36 WARN NetworkClient: [Consumer clientId=consumer-spark-kafka-source-9763db15-3779-4725-a866-b30bade5bf43-1999917323-driver-0-1, groupId=spark-kafka-source-9763db15-3779-4725-a866-b30bade5bf43-1999917323-driver-0] Bootstrap broker localhost:9092 (id: -1 rack: null) disconnected\n",
      "23/06/24 02:27:37 WARN NetworkClient: [Consumer clientId=consumer-spark-kafka-source-9763db15-3779-4725-a866-b30bade5bf43-1999917323-driver-0-1, groupId=spark-kafka-source-9763db15-3779-4725-a866-b30bade5bf43-1999917323-driver-0] Connection to node -1 (localhost/127.0.0.1:9092) could not be established. Broker may not be available.\n",
      "23/06/24 02:27:37 WARN NetworkClient: [Consumer clientId=consumer-spark-kafka-source-9763db15-3779-4725-a866-b30bade5bf43-1999917323-driver-0-1, groupId=spark-kafka-source-9763db15-3779-4725-a866-b30bade5bf43-1999917323-driver-0] Bootstrap broker localhost:9092 (id: -1 rack: null) disconnected\n",
      "23/06/24 02:27:38 WARN NetworkClient: [Consumer clientId=consumer-spark-kafka-source-9763db15-3779-4725-a866-b30bade5bf43-1999917323-driver-0-1, groupId=spark-kafka-source-9763db15-3779-4725-a866-b30bade5bf43-1999917323-driver-0] Connection to node -1 (localhost/127.0.0.1:9092) could not be established. Broker may not be available.\n",
      "23/06/24 02:27:38 WARN NetworkClient: [Consumer clientId=consumer-spark-kafka-source-9763db15-3779-4725-a866-b30bade5bf43-1999917323-driver-0-1, groupId=spark-kafka-source-9763db15-3779-4725-a866-b30bade5bf43-1999917323-driver-0] Bootstrap broker localhost:9092 (id: -1 rack: null) disconnected\n",
      "23/06/24 02:27:39 WARN NetworkClient: [Consumer clientId=consumer-spark-kafka-source-9763db15-3779-4725-a866-b30bade5bf43-1999917323-driver-0-1, groupId=spark-kafka-source-9763db15-3779-4725-a866-b30bade5bf43-1999917323-driver-0] Connection to node -1 (localhost/127.0.0.1:9092) could not be established. Broker may not be available.\n",
      "23/06/24 02:27:39 WARN NetworkClient: [Consumer clientId=consumer-spark-kafka-source-9763db15-3779-4725-a866-b30bade5bf43-1999917323-driver-0-1, groupId=spark-kafka-source-9763db15-3779-4725-a866-b30bade5bf43-1999917323-driver-0] Bootstrap broker localhost:9092 (id: -1 rack: null) disconnected\n",
      "23/06/24 02:27:40 WARN NetworkClient: [Consumer clientId=consumer-spark-kafka-source-9763db15-3779-4725-a866-b30bade5bf43-1999917323-driver-0-1, groupId=spark-kafka-source-9763db15-3779-4725-a866-b30bade5bf43-1999917323-driver-0] Connection to node -1 (localhost/127.0.0.1:9092) could not be established. Broker may not be available.\n",
      "23/06/24 02:27:40 WARN NetworkClient: [Consumer clientId=consumer-spark-kafka-source-9763db15-3779-4725-a866-b30bade5bf43-1999917323-driver-0-1, groupId=spark-kafka-source-9763db15-3779-4725-a866-b30bade5bf43-1999917323-driver-0] Bootstrap broker localhost:9092 (id: -1 rack: null) disconnected\n",
      "23/06/24 02:27:41 WARN NetworkClient: [Consumer clientId=consumer-spark-kafka-source-9763db15-3779-4725-a866-b30bade5bf43-1999917323-driver-0-1, groupId=spark-kafka-source-9763db15-3779-4725-a866-b30bade5bf43-1999917323-driver-0] Connection to node -1 (localhost/127.0.0.1:9092) could not be established. Broker may not be available.\n",
      "23/06/24 02:27:41 WARN NetworkClient: [Consumer clientId=consumer-spark-kafka-source-9763db15-3779-4725-a866-b30bade5bf43-1999917323-driver-0-1, groupId=spark-kafka-source-9763db15-3779-4725-a866-b30bade5bf43-1999917323-driver-0] Bootstrap broker localhost:9092 (id: -1 rack: null) disconnected\n"
     ]
    }
   ],
   "source": [
    "kafka_raw_df = spark \\\n",
    "  .readStream \\\n",
    "  .format(\"kafka\") \\\n",
    "  .option(\"kafka.bootstrap.servers\", \"localhost:9092\") \\\n",
    "  .option(\"subscribe\", \"cryptos\") \\\n",
    "  .option(\"startingOffsets\", \"earliest\") \\\n",
    "  .option(\"key.deserializer\",\"org.common.serialization.StringDeserializer\") \\\n",
    "  .option(\"value.deserializer\",\"org.common.serialization.StringDeserializer\") \\\n",
    "  .load()\n",
    "\n",
    "\n",
    "# Send data in format \"measurement BTC-USD=19890.1212\"\n",
    "crypto_df = kafka_raw_df.select(concat(lit(\"cryptos \"), split(col(\"value\"),\",\")[0], lit(\"=\"), split(col(\"value\"),\",\")[1]))\n",
    "query = crypto_df.writeStream.foreach(save_row).trigger(processingTime='60 seconds').start()\n",
    "query.awaitTermination()"
   ]
  },
  {
   "cell_type": "code",
   "execution_count": null,
   "id": "1e3d878c",
   "metadata": {},
   "outputs": [],
   "source": [
    "ß"
   ]
  }
 ],
 "metadata": {
  "kernelspec": {
   "display_name": "Python 3 (ipykernel)",
   "language": "python",
   "name": "python3"
  },
  "language_info": {
   "codemirror_mode": {
    "name": "ipython",
    "version": 3
   },
   "file_extension": ".py",
   "mimetype": "text/x-python",
   "name": "python",
   "nbconvert_exporter": "python",
   "pygments_lexer": "ipython3",
   "version": "3.9.13"
  }
 },
 "nbformat": 4,
 "nbformat_minor": 5
}
